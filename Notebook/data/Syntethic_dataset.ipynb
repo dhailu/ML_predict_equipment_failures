{
 "cells": [
  {
   "cell_type": "markdown",
   "id": "933554fc",
   "metadata": {},
   "source": [
    "Resources: https://github.com/krishnaik06/mlproject"
   ]
  },
  {
   "cell_type": "code",
   "execution_count": 1,
   "id": "3789a064",
   "metadata": {},
   "outputs": [],
   "source": [
    "import pandas as pd\n",
    "import numpy as np\n",
    "import random\n",
    "import uuid\n",
    "\n",
    "from datetime import datetime, timedelta\n",
    "\n",
    "# Set seed for reproducibility\n",
    "np.random.seed(42)\n",
    "random.seed(42)\n",
    "\n",
    "# Configurations\n",
    "NUM_RECORDS = 1000\n",
    "equipment_types = ['HVAC', 'Elevator', 'Generator', 'Pump', 'Boiler']\n",
    "locations = ['Building A', 'Building B', 'Building C', 'Warehouse 1', 'Warehouse 2']\n",
    "priorities = ['Low', 'Medium', 'High']\n",
    "\n",
    "# Helper: generate failure based on probability logic\n",
    "def simulate_failure(temp, vib, errors):\n",
    "    risk_score = 0\n",
    "    if temp > 85: risk_score += 1\n",
    "    if vib > 5: risk_score += 1\n",
    "    if errors > 2: risk_score += 1\n",
    "    return 1 if risk_score >= 2 else 0\n",
    "\n",
    "# Helper: generate random date between two dates\n",
    "def random_date(start_days_ago, end_days_ago):\n",
    "    start = datetime.now() - timedelta(days=start_days_ago)\n",
    "    end = datetime.now() - timedelta(days=end_days_ago)\n",
    "    return start + (end - start) * random.random()\n",
    "\n",
    "# Generate data\n",
    "data = []\n",
    "for _ in range(NUM_RECORDS):\n",
    "    equipment_id = str(uuid.uuid4())\n",
    "    equipment_type = random.choice(equipment_types)\n",
    "    location = random.choice(locations)\n",
    "    install_date = random_date(5*365, 365).date()  # 1-5 years ago\n",
    "    age_days = (datetime.now().date() - install_date).days\n",
    "    last_service = random_date(age_days, 30).date()\n",
    "    next_service = last_service + timedelta(days=random.randint(30, 180))\n",
    "    runtime_hours = round(np.random.normal(loc=5000, scale=1000), 2)\n",
    "    temperature = round(np.random.normal(loc=75, scale=10), 2)  # °C\n",
    "    vibration = round(np.random.normal(loc=3, scale=1.5), 2)     # mm/s\n",
    "    power_kw = round(np.random.normal(loc=20, scale=5), 2)\n",
    "    humidity = round(np.random.uniform(30, 90), 2)\n",
    "    error_count = np.random.poisson(lam=1.5)\n",
    "    manual_override = random.choice([0, 1])\n",
    "    downtime = round(np.random.exponential(scale=2), 2)\n",
    "    priority = random.choices(priorities, weights=[0.6, 0.3, 0.1])[0]\n",
    "\n",
    "    failure = simulate_failure(temperature, vibration, error_count)\n",
    "\n",
    "    data.append([\n",
    "        equipment_id, equipment_type, location, install_date, last_service,\n",
    "        next_service, age_days, runtime_hours, temperature, vibration,\n",
    "        power_kw, humidity, error_count, manual_override, downtime,\n",
    "        priority, failure\n",
    "    ])\n",
    "\n",
    "# Create DataFrame\n",
    "columns = [\n",
    "    'equipment_id', 'equipment_type', 'location', 'install_date',\n",
    "    'last_service_date', 'next_scheduled_service', 'age_days',\n",
    "    'runtime_hours', 'temperature', 'vibration_level',\n",
    "    'power_consumption_kw', 'humidity_level', 'error_codes_count',\n",
    "    'manual_override', 'downtime_last_30d', 'service_priority',\n",
    "    'failure_within_7_days'\n",
    "]\n",
    "\n",
    "df = pd.DataFrame(data, columns=columns)\n",
    "# df.head()\n",
    "# Save to CSV\n",
    "# file_path = \"C:/Users/Dejene\\Documents/Git_comany/ML_predict_equipment_failures/Notebook/data/data/equipment_maintenance_data.csv\"\n",
    "df.to_csv(\"eq_maintenance_raw_data.csv\", index=False)\n",
    "\n",
    "\n"
   ]
  },
  {
   "cell_type": "code",
   "execution_count": 9,
   "id": "9c327f2f",
   "metadata": {},
   "outputs": [
    {
     "data": {
      "text/plain": [
       "np.int64(0)"
      ]
     },
     "execution_count": 9,
     "metadata": {},
     "output_type": "execute_result"
    }
   ],
   "source": [
    "# df.info()\n",
    "# df.isnull().sum()  # Check for missing values\n",
    "df['equipment_id'].duplicated().sum()  # Check for duplicate IDs\n"
   ]
  },
  {
   "cell_type": "code",
   "execution_count": null,
   "id": "62f619c0",
   "metadata": {},
   "outputs": [],
   "source": []
  }
 ],
 "metadata": {
  "kernelspec": {
   "display_name": "Python 3",
   "language": "python",
   "name": "python3"
  },
  "language_info": {
   "codemirror_mode": {
    "name": "ipython",
    "version": 3
   },
   "file_extension": ".py",
   "mimetype": "text/x-python",
   "name": "python",
   "nbconvert_exporter": "python",
   "pygments_lexer": "ipython3",
   "version": "3.12.4"
  }
 },
 "nbformat": 4,
 "nbformat_minor": 5
}
